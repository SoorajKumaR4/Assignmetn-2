{
 "cells": [
  {
   "cell_type": "markdown",
   "id": "06f50ee2",
   "metadata": {},
   "source": [
    "1.What are the two values of the Boolean data type? How do you write them?\n",
    "\n",
    "A.\n",
    "True and False are two Boolean data types.  We can write them with built-in function bool()."
   ]
  },
  {
   "cell_type": "markdown",
   "id": "04408ba5",
   "metadata": {},
   "source": [
    "2. What are the three different types of Boolean operators?\n",
    "\n",
    "A.\n",
    "The three basic boolean operators are: AND, OR, and NOT\n"
   ]
  },
  {
   "cell_type": "markdown",
   "id": "e106177b",
   "metadata": {},
   "source": [
    "3. Make a list of each Boolean operator's truth tables (i.e. every possible combination of Boolean\n",
    "values for the operator and what it evaluate.\n",
    "\n",
    "A.\n",
    "\n",
    "True and True = True\n",
    "\n",
    "True and False= False\n",
    "\n",
    "False and False=False\n",
    "\n",
    "False and true=False\n",
    "\n",
    "True or True = True\n",
    "\n",
    "True or False= True\n",
    "\n",
    "False or False=False\n",
    "\n",
    "False or True=True"
   ]
  },
  {
   "cell_type": "markdown",
   "id": "4420b49c",
   "metadata": {},
   "source": [
    "4.  4. What are the values of the following expressions?\n",
    "\n",
    "A.\n",
    "\n",
    "(5 >4) and (3 == 5)=False\n",
    "\n",
    "not (5 > 4)=False\n",
    "\n",
    "(5> 4) or (3 == 5)=True\n",
    "\n",
    "not (5> 4) or (3 == 5)=False\n",
    "\n",
    "(True and True) and (True == False)=False\n",
    "\n",
    "(not False) or (not True)=True"
   ]
  },
  {
   "cell_type": "markdown",
   "id": "173042eb",
   "metadata": {},
   "source": [
    "5. What are the six comparison operators?\n",
    "\n",
    "A.\n",
    "less than ( < )\n",
    "\n",
    "less than or equal to ( <= )\n",
    "\n",
    "greater than ( > )\n",
    "\n",
    "greater than or equal to ( >= )\n",
    "\n",
    "equal to ( == )\n",
    "\n",
    "not equal to ( != )."
   ]
  },
  {
   "cell_type": "markdown",
   "id": "cbdb5929",
   "metadata": {},
   "source": [
    "6. How do you tell the difference between the equal to and assignment operators?Describe a\n",
    "condition and when you would use one.\n",
    "\n",
    "A. Equal to is to check if two expressions are equal and is denoted by == sign.  Assignment opeator is used to assign values to a variable.  Conditions are processed as true or false.  We will condition to move forward only if the given condition is met."
   ]
  },
  {
   "cell_type": "markdown",
   "id": "8d2117f0",
   "metadata": {},
   "source": [
    "7. Identify the three blocks in this code:\n",
    "\n",
    "A.\n",
    "\n",
    "print('ham')\n",
    "\n",
    "print('spam')\n",
    "\n",
    "print('spam')    "
   ]
  },
  {
   "cell_type": "markdown",
   "id": "1be56de2",
   "metadata": {},
   "source": [
    "8. Write code that prints Hello if 1 is stored in spam, prints Howdy if 2 is stored in spam, and prints\n",
    "Greetings! if anything else is stored in spam.\n",
    "\n",
    "A.\n",
    "spam = int(input())\n",
    "\n",
    "if spam == 1:\n",
    "    print('Hello')\n",
    "elif spam == 2:\n",
    "    print('Howdy')\n",
    "else:\n",
    "    print('Greetings!')"
   ]
  },
  {
   "cell_type": "markdown",
   "id": "471b3d48",
   "metadata": {},
   "source": [
    "9.If your programme is stuck in an endless loop, what keys you’ll press?\n",
    "\n",
    "A. Press ctrl+C or the square mark in jupyter."
   ]
  },
  {
   "cell_type": "markdown",
   "id": "6b133045",
   "metadata": {},
   "source": [
    "10. How can you tell the difference between break and continue?\n",
    "\n",
    "A.\n",
    "Break ends the execution and continue moves the execution to the start of the loop."
   ]
  },
  {
   "cell_type": "markdown",
   "id": "af9c7698",
   "metadata": {},
   "source": [
    "11. In a for loop, what is the difference between range(10), range(0, 10), and range(0, 10, 1)?\n",
    "\n",
    "A. \n",
    "All of the them give same result."
   ]
  },
  {
   "cell_type": "markdown",
   "id": "9f53a061",
   "metadata": {},
   "source": [
    "12. Write a short program that prints the numbers 1 to 10 using a for loop. Then write an equivalent\n",
    "program that prints the numbers 1 to 10 using a while loop.\n",
    "\n",
    "A.\n",
    "\n",
    "l=range(11)\n",
    "\n",
    "for i in l:\n",
    "    \n",
    "    print(i)\n",
    "    \n",
    "i=1\n",
    "while i <=10:\n",
    "    print(i)\n",
    "    i=i+1\n"
   ]
  },
  {
   "cell_type": "markdown",
   "id": "4b7cc9a7",
   "metadata": {},
   "source": [
    "13. If you had a function named bacon() inside a module named spam, how would you call it after\n",
    "importing spam?\n",
    "\n",
    "A.\n",
    "spam.bacon()"
   ]
  }
 ],
 "metadata": {
  "kernelspec": {
   "display_name": "Python 3 (ipykernel)",
   "language": "python",
   "name": "python3"
  },
  "language_info": {
   "codemirror_mode": {
    "name": "ipython",
    "version": 3
   },
   "file_extension": ".py",
   "mimetype": "text/x-python",
   "name": "python",
   "nbconvert_exporter": "python",
   "pygments_lexer": "ipython3",
   "version": "3.9.7"
  }
 },
 "nbformat": 4,
 "nbformat_minor": 5
}
